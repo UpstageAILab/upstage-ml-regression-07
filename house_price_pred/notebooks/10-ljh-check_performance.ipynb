{
 "cells": [
  {
   "cell_type": "code",
   "execution_count": null,
   "metadata": {},
   "outputs": [],
   "source": [
    "# visualization\n",
    "import matplotlib.pyplot as plt\n",
    "import matplotlib.font_manager as fm\n",
    "fe = fm.FontEntry(\n",
    "    fname=r'/usr/share/fonts/truetype/nanum/NanumGothic.ttf', # ttf 파일이 저장되어 있는 경로\n",
    "    name='NanumBarunGothic')                        # 이 폰트의 원하는 이름 설정\n",
    "fm.fontManager.ttflist.insert(0, fe)              # Matplotlib에 폰트 추가\n",
    "plt.rcParams.update({'font.size': 10, 'font.family': 'NanumBarunGothic'}) # 폰트 설정\n",
    "plt.rc('font', family='NanumBarunGothic')\n",
    "import seaborn as sns\n",
    "import chardet\n",
    "# utils\n",
    "import pandas as pd\n",
    "import numpy as np\n",
    "from tqdm import tqdm\n",
    "import pickle\n",
    "import warnings;warnings.filterwarnings('ignore')\n",
    "\n",
    "# Model\n",
    "from sklearn.preprocessing import LabelEncoder\n",
    "from sklearn.model_selection import train_test_split\n",
    "from sklearn.metrics import mean_squared_error\n",
    "from sklearn.ensemble import RandomForestRegressor\n",
    "from sklearn import metrics\n",
    "import lightgbm\n",
    "from sklearn.linear_model import LinearRegression\n",
    "\n",
    "import eli5\n",
    "from eli5.sklearn import PermutationImportance\n"
   ]
  },
  {
   "cell_type": "code",
   "execution_count": null,
   "metadata": {},
   "outputs": [],
   "source": [
    "from functools import partial\n",
    "\n",
    "def importances(model_RF, model_lgbm, valid, valid_y, name, train_rf_rmse, train_lgbm_rmse):\n",
    "    performance = pd.DataFrame(columns = ['train', 'valid'], index = ['RF', 'lgbm'])\n",
    "    importances_lgbm = pd.Series(model_lgbm.feature_importances_, index=list(valid.columns))\n",
    "    importances_lgbm = importances_lgbm.sort_values(ascending=False)\n",
    "    y_pred = model_lgbm.predict(valid)\n",
    "    mse = mean_squared_error(valid_y, y_pred)\n",
    "    rmse = np.sqrt(mse)\n",
    "    \n",
    "    importances_RF = pd.Series(model_RF.feature_importances_, index=list(valid.columns))\n",
    "    importances_RF = importances_RF.sort_values(ascending=False)\n",
    "    y_pred_RF = model_RF.predict(valid)\n",
    "    mse_RF = mean_squared_error(valid_y, y_pred_RF)\n",
    "    rmse_RF = np.sqrt(mse_RF)\n",
    "    \n",
    "    performance.loc['lgbm'] = [train_lgbm_rmse, rmse]\n",
    "    performance.loc['RF'] = [train_rf_rmse, rmse_RF]\n",
    "    print(performance)\n",
    "\n",
    "    fig, axs = plt.subplots(nrows=1, ncols=2, figsize=(16, 5))\n",
    "\n",
    "    \n",
    "    sns.barplot(x=importances_lgbm, y=importances_lgbm.index, ax=axs[0])\n",
    "    axs[0].set_title(\"Feature Importances_lgbm\")\n",
    "    \n",
    "    sns.barplot(x=importances_RF, y=importances_RF.index, ax=axs[1])\n",
    "    axs[1].set_title(\"Feature Importances_RF\")\n",
    "    \n",
    "    plt.show()\n",
    "    \n",
    "\n",
    "    return performance\n",
    "\n",
    "\n",
    "\n",
    "def run_model(cols, df, name, n_estimators = 5):\n",
    "    df = df[df['is_test'] == 0]\n",
    "    valid, valid_y = df.query('계약년월 > 202304')[cols], df.query('계약년월 > 202304')['target']\n",
    "    X = df.query('계약년월 <= 202304')[cols]\n",
    "    y = df.query('계약년월 <= 202304')['target']\n",
    "    \n",
    "    model_RF = RandomForestRegressor(n_estimators=n_estimators, criterion='squared_error', random_state=1, n_jobs=-1)\n",
    "    model_lgbm = lightgbm.LGBMRegressor(n_estimators=n_estimators, random_state=1, n_jobs=-1, verbosity=-1)\n",
    "\n",
    "    model_RF.fit(X, y)\n",
    "    model_lgbm.fit(X, y) \n",
    "    train_rf_rmse = np.sqrt(mean_squared_error(y, model_RF.predict(X)))\n",
    "    train_lgbm_rmse = np.sqrt(mean_squared_error(y, model_lgbm.predict(X)))\n",
    "    # print('training_RF rmse is ', np.sqrt(mean_squared_error(y, model_RF.predict(X))))\n",
    "    # print('training_lgbm rmse is ', np.sqrt(mean_squared_error(y, model_lgbm.predict(X))))\n",
    "    # 최적의 파라미터\n",
    "    importances(model_RF, model_lgbm, valid, valid_y, name, train_rf_rmse, train_lgbm_rmse)"
   ]
  },
  {
   "cell_type": "code",
   "execution_count": null,
   "metadata": {},
   "outputs": [],
   "source": [
    "total_path = '/data/ephemeral/home/0122_total_data.csv' \n",
    "\n",
    "dt = pd.read_csv(total_path)"
   ]
  },
  {
   "cell_type": "code",
   "execution_count": null,
   "metadata": {},
   "outputs": [],
   "source": [
    "df_2018 = dt.query('계약년월 >= 201801')"
   ]
  },
  {
   "cell_type": "code",
   "execution_count": 1,
   "metadata": {},
   "outputs": [],
   "source": [
    "#후보 컬럼들을 정의해주세요.\n",
    "\n",
    "col = ['x', '계약년월', '이전가격', '전용면적', 'mean_지상층수', 'sum_세대수', '층', '부속건축물수',\n",
    "       '한강거리', 'y', 'bus_count_1000', '기준금리', '매매수급동향', '연GDP']\n",
    "\n",
    "new_col = ['x', '계약년월', '이전가격', '전용면적', 'mean_지상층수', 'sum_세대수', '층', \n",
    "       '한강거리', 'y', 'bus_count_1000', '매매수급동향']\n",
    "\n",
    "min_col = ['x', '계약년월', '이전가격', '전용면적', 'sum_세대수', '층', \n",
    "       ]\n",
    "\n",
    "corr_col = ['이전가격', '전용면적', 'mean_지상층수', 'sum_세대수', \n",
    "       '한강거리', 'y', 'bus_count_1000']\n",
    "\n",
    "best_cols = ['한강거리', 'y', 'mean_지상층수', '전용면적_filtered', '이전가격']"
   ]
  },
  {
   "cell_type": "code",
   "execution_count": null,
   "metadata": {},
   "outputs": [],
   "source": [
    "#run_model(후보 컬럼, 데이터셋 이름, 모델 이름, estimators 수)\n",
    "\n",
    "run_model(best_cols, df_2018, \"best_cols\", 300)"
   ]
  },
  {
   "cell_type": "code",
   "execution_count": null,
   "metadata": {},
   "outputs": [],
   "source": [
    "for estimator in range(10, 20):\n",
    "    print(f\"estimator's counts : {estimator}\")\n",
    "    run_model(best_cols, df_2018, estimator, estimator)"
   ]
  },
  {
   "cell_type": "code",
   "execution_count": null,
   "metadata": {},
   "outputs": [],
   "source": []
  }
 ],
 "metadata": {
  "kernelspec": {
   "display_name": ".venv",
   "language": "python",
   "name": "python3"
  },
  "language_info": {
   "codemirror_mode": {
    "name": "ipython",
    "version": 3
   },
   "file_extension": ".py",
   "mimetype": "text/x-python",
   "name": "python",
   "nbconvert_exporter": "python",
   "pygments_lexer": "ipython3",
   "version": "3.11.6"
  }
 },
 "nbformat": 4,
 "nbformat_minor": 2
}
