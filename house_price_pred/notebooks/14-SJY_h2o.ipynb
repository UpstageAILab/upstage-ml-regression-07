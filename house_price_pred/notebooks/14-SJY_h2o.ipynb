{
 "cells": [
  {
   "cell_type": "code",
   "execution_count": 1,
   "metadata": {},
   "outputs": [
    {
     "name": "stdout",
     "output_type": "stream",
     "text": [
      "Requirement already satisfied: h2o in /opt/conda/lib/python3.10/site-packages (3.44.0.3)\n",
      "Requirement already satisfied: requests in /opt/conda/lib/python3.10/site-packages (from h2o) (2.28.2)\n",
      "Requirement already satisfied: tabulate in /opt/conda/lib/python3.10/site-packages (from h2o) (0.9.0)\n",
      "Requirement already satisfied: charset-normalizer<4,>=2 in /opt/conda/lib/python3.10/site-packages (from requests->h2o) (2.0.4)\n",
      "Requirement already satisfied: idna<4,>=2.5 in /opt/conda/lib/python3.10/site-packages (from requests->h2o) (3.4)\n",
      "Requirement already satisfied: urllib3<1.27,>=1.21.1 in /opt/conda/lib/python3.10/site-packages (from requests->h2o) (1.26.16)\n",
      "Requirement already satisfied: certifi>=2017.4.17 in /opt/conda/lib/python3.10/site-packages (from requests->h2o) (2023.7.22)\n",
      "\u001b[33mWARNING: Running pip as the 'root' user can result in broken permissions and conflicting behaviour with the system package manager. It is recommended to use a virtual environment instead: https://pip.pypa.io/warnings/venv\u001b[0m\u001b[33m\n",
      "Reading package lists... Done\n",
      "Building dependency tree       \n",
      "Reading state information... Done\n",
      "fonts-nanum is already the newest version (20180306-3).\n",
      "0 upgraded, 0 newly installed, 0 to remove and 26 not upgraded.\n"
     ]
    }
   ],
   "source": [
    "!pip install h2o\n",
    "# 한글 폰트 사용을 위한 라이브러리입니다.\n",
    "!apt-get install -y fonts-nanum"
   ]
  },
  {
   "cell_type": "code",
   "execution_count": 2,
   "metadata": {},
   "outputs": [],
   "source": [
    "# visualization\n",
    "import matplotlib.pyplot as plt\n",
    "import matplotlib.font_manager as fm\n",
    "fe = fm.FontEntry(\n",
    "    fname=r'/usr/share/fonts/truetype/nanum/NanumGothic.ttf', # ttf 파일이 저장되어 있는 경로\n",
    "    name='NanumBarunGothic')                        # 이 폰트의 원하는 이름 설정\n",
    "fm.fontManager.ttflist.insert(0, fe)              # Matplotlib에 폰트 추가\n",
    "plt.rcParams.update({'font.size': 10, 'font.family': 'NanumBarunGothic'}) # 폰트 설정\n",
    "plt.rc('font', family='NanumBarunGothic')\n",
    "import seaborn as sns\n",
    "\n",
    "# utils\n",
    "import pandas as pd\n",
    "import numpy as np\n",
    "from tqdm import tqdm\n",
    "import pickle\n",
    "import warnings;warnings.filterwarnings('ignore')\n",
    "\n",
    "# Model\n",
    "from sklearn.preprocessing import LabelEncoder\n",
    "from sklearn.model_selection import train_test_split\n",
    "from sklearn.metrics import mean_squared_error\n",
    "from sklearn.ensemble import RandomForestRegressor"
   ]
  },
  {
   "cell_type": "code",
   "execution_count": 3,
   "metadata": {},
   "outputs": [],
   "source": [
    "import h2o\n",
    "from h2o.automl import H2OAutoML\n",
    "\n",
    "# 필요한 데이터를 load\n",
    "total_path = \"../total-data_ver2.csv\"\n",
    "\n",
    "dt_total = pd.read_csv(total_path)\n",
    "\n",
    "# is_test 컬럼 값이 0인 행을 train 데이터셋으로 저장\n",
    "df_train = dt_total[dt_total['is_test'] == 0]\n",
    "\n",
    "# is_test 컬럼 값이 1인 행을 test 데이터셋으로 저장\n",
    "df_test = dt_total[dt_total['is_test'] == 1]"
   ]
  },
  {
   "cell_type": "code",
   "execution_count": 4,
   "metadata": {},
   "outputs": [],
   "source": [
    "# '계약년월'에서 '연도' 추출 후 int 형으로 변환하여 새로운 열 추가\n",
    "df_train = df_train.assign(year=df_train['계약년월'].astype('str').str[:4].astype(int)).query('year > 2020')\n",
    "\n",
    "# '계약년월'에서 '연도' 추출 후 int 형으로 변환하여 새로운 열 추가\n",
    "df_test = df_test.assign(year=df_test['계약년월'].astype('str').str[:4].astype(int))\n",
    "\n",
    "# '계약년월'에서 '월' 추출 후 5로 나눈 값을 새로운 열로 추가\n",
    "df_train, df_test = map(lambda df: df.assign(계약월=lambda x: (x['계약년월'] % 100) // 5), [df_train, df_test])\n",
    "\n",
    "# 타겟 변수 생성\n",
    "df_train['price'] = df_train.groupby(['아파트명', '계약월'])['target'].transform('mean')\n",
    "\n",
    "# 중복 데이터 제거\n",
    "df_train = df_train.drop_duplicates(subset=['아파트명', '계약월'])"
   ]
  },
  {
   "cell_type": "code",
   "execution_count": 5,
   "metadata": {},
   "outputs": [],
   "source": [
    "import pandas as pd\n",
    "\n",
    "# 범주형 변수를 원-핫 인코딩으로 변환\n",
    "df_train_encoded = pd.get_dummies(df_train)\n",
    "df_test_encoded = pd.get_dummies(df_test)\n",
    "\n",
    "# 학습 데이터와 테스트 데이터에 있는 모든 변수가 동일하도록 조정\n",
    "df_train_encoded, df_test_encoded = df_train_encoded.align(df_test_encoded, join='left', axis=1)\n",
    "\n",
    "# 결측값을 0으로 채움 (학습 데이터에 없는 범주형 레벨 때문에 발생)\n",
    "df_test_encoded.fillna(0, inplace=True)"
   ]
  },
  {
   "cell_type": "code",
   "execution_count": 7,
   "metadata": {},
   "outputs": [
    {
     "name": "stdout",
     "output_type": "stream",
     "text": [
      "Checking whether there is an H2O instance running at http://localhost:54321. connected.\n"
     ]
    },
    {
     "data": {
      "text/html": [
       "\n",
       "<style>\n",
       "\n",
       "#h2o-table-2.h2o-container {\n",
       "  overflow-x: auto;\n",
       "}\n",
       "#h2o-table-2 .h2o-table {\n",
       "  /* width: 100%; */\n",
       "  margin-top: 1em;\n",
       "  margin-bottom: 1em;\n",
       "}\n",
       "#h2o-table-2 .h2o-table caption {\n",
       "  white-space: nowrap;\n",
       "  caption-side: top;\n",
       "  text-align: left;\n",
       "  /* margin-left: 1em; */\n",
       "  margin: 0;\n",
       "  font-size: larger;\n",
       "}\n",
       "#h2o-table-2 .h2o-table thead {\n",
       "  white-space: nowrap; \n",
       "  position: sticky;\n",
       "  top: 0;\n",
       "  box-shadow: 0 -1px inset;\n",
       "}\n",
       "#h2o-table-2 .h2o-table tbody {\n",
       "  overflow: auto;\n",
       "}\n",
       "#h2o-table-2 .h2o-table th,\n",
       "#h2o-table-2 .h2o-table td {\n",
       "  text-align: right;\n",
       "  /* border: 1px solid; */\n",
       "}\n",
       "#h2o-table-2 .h2o-table tr:nth-child(even) {\n",
       "  /* background: #F5F5F5 */\n",
       "}\n",
       "\n",
       "</style>      \n",
       "<div id=\"h2o-table-2\" class=\"h2o-container\">\n",
       "  <table class=\"h2o-table\">\n",
       "    <caption></caption>\n",
       "    <thead></thead>\n",
       "    <tbody><tr><td>H2O_cluster_uptime:</td>\n",
       "<td>3 mins 47 secs</td></tr>\n",
       "<tr><td>H2O_cluster_timezone:</td>\n",
       "<td>Asia/Seoul</td></tr>\n",
       "<tr><td>H2O_data_parsing_timezone:</td>\n",
       "<td>UTC</td></tr>\n",
       "<tr><td>H2O_cluster_version:</td>\n",
       "<td>3.44.0.3</td></tr>\n",
       "<tr><td>H2O_cluster_version_age:</td>\n",
       "<td>1 month and 2 days</td></tr>\n",
       "<tr><td>H2O_cluster_name:</td>\n",
       "<td>H2O_from_python_root_uv3kqh</td></tr>\n",
       "<tr><td>H2O_cluster_total_nodes:</td>\n",
       "<td>1</td></tr>\n",
       "<tr><td>H2O_cluster_free_memory:</td>\n",
       "<td>14.83 Gb</td></tr>\n",
       "<tr><td>H2O_cluster_total_cores:</td>\n",
       "<td>10</td></tr>\n",
       "<tr><td>H2O_cluster_allowed_cores:</td>\n",
       "<td>10</td></tr>\n",
       "<tr><td>H2O_cluster_status:</td>\n",
       "<td>locked, healthy</td></tr>\n",
       "<tr><td>H2O_connection_url:</td>\n",
       "<td>http://localhost:54321</td></tr>\n",
       "<tr><td>H2O_connection_proxy:</td>\n",
       "<td>{\"http\": null, \"https\": null}</td></tr>\n",
       "<tr><td>H2O_internal_security:</td>\n",
       "<td>False</td></tr>\n",
       "<tr><td>Python_version:</td>\n",
       "<td>3.10.13 final</td></tr></tbody>\n",
       "  </table>\n",
       "</div>\n"
      ],
      "text/plain": [
       "--------------------------  -----------------------------\n",
       "H2O_cluster_uptime:         3 mins 47 secs\n",
       "H2O_cluster_timezone:       Asia/Seoul\n",
       "H2O_data_parsing_timezone:  UTC\n",
       "H2O_cluster_version:        3.44.0.3\n",
       "H2O_cluster_version_age:    1 month and 2 days\n",
       "H2O_cluster_name:           H2O_from_python_root_uv3kqh\n",
       "H2O_cluster_total_nodes:    1\n",
       "H2O_cluster_free_memory:    14.83 Gb\n",
       "H2O_cluster_total_cores:    10\n",
       "H2O_cluster_allowed_cores:  10\n",
       "H2O_cluster_status:         locked, healthy\n",
       "H2O_connection_url:         http://localhost:54321\n",
       "H2O_connection_proxy:       {\"http\": null, \"https\": null}\n",
       "H2O_internal_security:      False\n",
       "Python_version:             3.10.13 final\n",
       "--------------------------  -----------------------------"
      ]
     },
     "metadata": {},
     "output_type": "display_data"
    },
    {
     "name": "stdout",
     "output_type": "stream",
     "text": [
      "Parse progress: |████████████████████████████████████████████████████████████████| (done) 100%\n",
      "Parse progress: |████████████████████████████████████████████████████████████████| (done) 100%\n",
      "AutoML progress: |███████████████████████████████████████████████████████████████| (done) 100%\n",
      "stackedensemble prediction progress: |███████████████████████████████████████████| (done) 100%\n"
     ]
    }
   ],
   "source": [
    "# H2O 서버 초기화\n",
    "h2o.init()\n",
    "\n",
    "# 원-핫 인코딩된 데이터 프레임을 H2O용 프레임으로 변환\n",
    "h2o_train = h2o.H2OFrame(df_train_encoded)\n",
    "h2o_test = h2o.H2OFrame(df_test_encoded)\n",
    "\n",
    "# 타겟 변수와 입력 변수 지정\n",
    "x = ['전용면적', 'x'] # 사용하고자 하는 변수만 지정\n",
    "y = \"price\"\n",
    "\n",
    "# AutoML 객체 생성\n",
    "aml = H2OAutoML(max_models = 10, seed = 1)\n",
    "\n",
    "# 모델 학습\n",
    "aml.train(x = x, y = y, training_frame = h2o_train)\n",
    "\n",
    "# 테스트 데이터에 대한 예측\n",
    "preds = aml.predict(h2o_test)"
   ]
  },
  {
   "cell_type": "code",
   "execution_count": 8,
   "metadata": {},
   "outputs": [],
   "source": [
    "# print(pred.columns)"
   ]
  },
  {
   "cell_type": "code",
   "execution_count": 10,
   "metadata": {},
   "outputs": [
    {
     "data": {
      "text/html": [
       "<table class='dataframe'>\n",
       "<thead>\n",
       "<tr><th>model_id                                               </th><th style=\"text-align: right;\">   rmse</th><th style=\"text-align: right;\">        mse</th><th style=\"text-align: right;\">    mae</th><th style=\"text-align: right;\">     rmsle</th><th style=\"text-align: right;\">  mean_residual_deviance</th></tr>\n",
       "</thead>\n",
       "<tbody>\n",
       "<tr><td>StackedEnsemble_BestOfFamily_1_AutoML_1_20240123_104514</td><td style=\"text-align: right;\">40023.9</td><td style=\"text-align: right;\">1.60191e+09</td><td style=\"text-align: right;\">23940  </td><td style=\"text-align: right;\">nan       </td><td style=\"text-align: right;\">             1.60191e+09</td></tr>\n",
       "<tr><td>StackedEnsemble_AllModels_1_AutoML_1_20240123_104514   </td><td style=\"text-align: right;\">40024.9</td><td style=\"text-align: right;\">1.60199e+09</td><td style=\"text-align: right;\">23946.6</td><td style=\"text-align: right;\">nan       </td><td style=\"text-align: right;\">             1.60199e+09</td></tr>\n",
       "<tr><td>XRT_1_AutoML_1_20240123_104514                         </td><td style=\"text-align: right;\">43085.2</td><td style=\"text-align: right;\">1.85634e+09</td><td style=\"text-align: right;\">24856.9</td><td style=\"text-align: right;\">  0.37088 </td><td style=\"text-align: right;\">             1.85634e+09</td></tr>\n",
       "<tr><td>DRF_1_AutoML_1_20240123_104514                         </td><td style=\"text-align: right;\">43342.2</td><td style=\"text-align: right;\">1.87854e+09</td><td style=\"text-align: right;\">24747.5</td><td style=\"text-align: right;\">  0.370745</td><td style=\"text-align: right;\">             1.87854e+09</td></tr>\n",
       "<tr><td>XGBoost_1_AutoML_1_20240123_104514                     </td><td style=\"text-align: right;\">44082.1</td><td style=\"text-align: right;\">1.94324e+09</td><td style=\"text-align: right;\">27147.4</td><td style=\"text-align: right;\">nan       </td><td style=\"text-align: right;\">             1.94324e+09</td></tr>\n",
       "<tr><td>XGBoost_2_AutoML_1_20240123_104514                     </td><td style=\"text-align: right;\">45898.4</td><td style=\"text-align: right;\">2.10667e+09</td><td style=\"text-align: right;\">28635.8</td><td style=\"text-align: right;\">nan       </td><td style=\"text-align: right;\">             2.10667e+09</td></tr>\n",
       "<tr><td>XGBoost_3_AutoML_1_20240123_104514                     </td><td style=\"text-align: right;\">50296.1</td><td style=\"text-align: right;\">2.5297e+09 </td><td style=\"text-align: right;\">31898.7</td><td style=\"text-align: right;\">nan       </td><td style=\"text-align: right;\">             2.5297e+09 </td></tr>\n",
       "<tr><td>GBM_4_AutoML_1_20240123_104514                         </td><td style=\"text-align: right;\">50879  </td><td style=\"text-align: right;\">2.58867e+09</td><td style=\"text-align: right;\">32500.5</td><td style=\"text-align: right;\">nan       </td><td style=\"text-align: right;\">             2.58867e+09</td></tr>\n",
       "<tr><td>GBM_3_AutoML_1_20240123_104514                         </td><td style=\"text-align: right;\">52872.5</td><td style=\"text-align: right;\">2.7955e+09 </td><td style=\"text-align: right;\">33727.5</td><td style=\"text-align: right;\">nan       </td><td style=\"text-align: right;\">             2.7955e+09 </td></tr>\n",
       "<tr><td>GBM_2_AutoML_1_20240123_104514                         </td><td style=\"text-align: right;\">53449.7</td><td style=\"text-align: right;\">2.85687e+09</td><td style=\"text-align: right;\">34098.3</td><td style=\"text-align: right;\">nan       </td><td style=\"text-align: right;\">             2.85687e+09</td></tr>\n",
       "<tr><td>GBM_1_AutoML_1_20240123_104514                         </td><td style=\"text-align: right;\">57562.8</td><td style=\"text-align: right;\">3.31347e+09</td><td style=\"text-align: right;\">36140.3</td><td style=\"text-align: right;\">nan       </td><td style=\"text-align: right;\">             3.31347e+09</td></tr>\n",
       "<tr><td>GLM_1_AutoML_1_20240123_104514                         </td><td style=\"text-align: right;\">82210.2</td><td style=\"text-align: right;\">6.75852e+09</td><td style=\"text-align: right;\">53954.2</td><td style=\"text-align: right;\">  0.793929</td><td style=\"text-align: right;\">             6.75852e+09</td></tr>\n",
       "</tbody>\n",
       "</table><pre style='font-size: smaller; margin-bottom: 1em;'>[12 rows x 6 columns]</pre>"
      ],
      "text/plain": [
       "model_id                                                    rmse          mse      mae       rmsle    mean_residual_deviance\n",
       "-------------------------------------------------------  -------  -----------  -------  ----------  ------------------------\n",
       "StackedEnsemble_BestOfFamily_1_AutoML_1_20240123_104514  40023.9  1.60191e+09  23940    nan                      1.60191e+09\n",
       "StackedEnsemble_AllModels_1_AutoML_1_20240123_104514     40024.9  1.60199e+09  23946.6  nan                      1.60199e+09\n",
       "XRT_1_AutoML_1_20240123_104514                           43085.2  1.85634e+09  24856.9    0.37088                1.85634e+09\n",
       "DRF_1_AutoML_1_20240123_104514                           43342.2  1.87854e+09  24747.5    0.370745               1.87854e+09\n",
       "XGBoost_1_AutoML_1_20240123_104514                       44082.1  1.94324e+09  27147.4  nan                      1.94324e+09\n",
       "XGBoost_2_AutoML_1_20240123_104514                       45898.4  2.10667e+09  28635.8  nan                      2.10667e+09\n",
       "XGBoost_3_AutoML_1_20240123_104514                       50296.1  2.5297e+09   31898.7  nan                      2.5297e+09\n",
       "GBM_4_AutoML_1_20240123_104514                           50879    2.58867e+09  32500.5  nan                      2.58867e+09\n",
       "GBM_3_AutoML_1_20240123_104514                           52872.5  2.7955e+09   33727.5  nan                      2.7955e+09\n",
       "GBM_2_AutoML_1_20240123_104514                           53449.7  2.85687e+09  34098.3  nan                      2.85687e+09\n",
       "GBM_1_AutoML_1_20240123_104514                           57562.8  3.31347e+09  36140.3  nan                      3.31347e+09\n",
       "GLM_1_AutoML_1_20240123_104514                           82210.2  6.75852e+09  53954.2    0.793929               6.75852e+09\n",
       "[12 rows x 6 columns]\n"
      ]
     },
     "execution_count": 10,
     "metadata": {},
     "output_type": "execute_result"
    }
   ],
   "source": [
    "lb = aml.leaderboard\n",
    "lb.head(rows=lb.nrows)"
   ]
  },
  {
   "cell_type": "code",
   "execution_count": 11,
   "metadata": {},
   "outputs": [],
   "source": [
    "lb = h2o.automl.get_leaderboard(aml, extra_columns = 'ALL')"
   ]
  },
  {
   "cell_type": "code",
   "execution_count": 12,
   "metadata": {},
   "outputs": [
    {
     "data": {
      "text/html": [
       "<table class='dataframe'>\n",
       "<thead>\n",
       "<tr><th>model_id                                               </th><th style=\"text-align: right;\">   rmse</th><th style=\"text-align: right;\">        mse</th><th style=\"text-align: right;\">    mae</th><th style=\"text-align: right;\">     rmsle</th><th style=\"text-align: right;\">  mean_residual_deviance</th><th style=\"text-align: right;\">  training_time_ms</th><th style=\"text-align: right;\">  predict_time_per_row_ms</th><th>algo           </th></tr>\n",
       "</thead>\n",
       "<tbody>\n",
       "<tr><td>StackedEnsemble_BestOfFamily_1_AutoML_1_20240123_104514</td><td style=\"text-align: right;\">40023.9</td><td style=\"text-align: right;\">1.60191e+09</td><td style=\"text-align: right;\">23940  </td><td style=\"text-align: right;\">nan       </td><td style=\"text-align: right;\">             1.60191e+09</td><td style=\"text-align: right;\">             21768</td><td style=\"text-align: right;\">                 0.07626 </td><td>StackedEnsemble</td></tr>\n",
       "<tr><td>StackedEnsemble_AllModels_1_AutoML_1_20240123_104514   </td><td style=\"text-align: right;\">40024.9</td><td style=\"text-align: right;\">1.60199e+09</td><td style=\"text-align: right;\">23946.6</td><td style=\"text-align: right;\">nan       </td><td style=\"text-align: right;\">             1.60199e+09</td><td style=\"text-align: right;\">             67600</td><td style=\"text-align: right;\">                 0.038144</td><td>StackedEnsemble</td></tr>\n",
       "<tr><td>XRT_1_AutoML_1_20240123_104514                         </td><td style=\"text-align: right;\">43085.2</td><td style=\"text-align: right;\">1.85634e+09</td><td style=\"text-align: right;\">24856.9</td><td style=\"text-align: right;\">  0.37088 </td><td style=\"text-align: right;\">             1.85634e+09</td><td style=\"text-align: right;\">              1553</td><td style=\"text-align: right;\">                 0.009842</td><td>DRF            </td></tr>\n",
       "<tr><td>DRF_1_AutoML_1_20240123_104514                         </td><td style=\"text-align: right;\">43342.2</td><td style=\"text-align: right;\">1.87854e+09</td><td style=\"text-align: right;\">24747.5</td><td style=\"text-align: right;\">  0.370745</td><td style=\"text-align: right;\">             1.87854e+09</td><td style=\"text-align: right;\">              1224</td><td style=\"text-align: right;\">                 0.009703</td><td>DRF            </td></tr>\n",
       "<tr><td>XGBoost_1_AutoML_1_20240123_104514                     </td><td style=\"text-align: right;\">44082.1</td><td style=\"text-align: right;\">1.94324e+09</td><td style=\"text-align: right;\">27147.4</td><td style=\"text-align: right;\">nan       </td><td style=\"text-align: right;\">             1.94324e+09</td><td style=\"text-align: right;\">              1379</td><td style=\"text-align: right;\">                 0.009733</td><td>XGBoost        </td></tr>\n",
       "<tr><td>XGBoost_2_AutoML_1_20240123_104514                     </td><td style=\"text-align: right;\">45898.4</td><td style=\"text-align: right;\">2.10667e+09</td><td style=\"text-align: right;\">28635.8</td><td style=\"text-align: right;\">nan       </td><td style=\"text-align: right;\">             2.10667e+09</td><td style=\"text-align: right;\">               948</td><td style=\"text-align: right;\">                 0.008646</td><td>XGBoost        </td></tr>\n",
       "<tr><td>XGBoost_3_AutoML_1_20240123_104514                     </td><td style=\"text-align: right;\">50296.1</td><td style=\"text-align: right;\">2.5297e+09 </td><td style=\"text-align: right;\">31898.7</td><td style=\"text-align: right;\">nan       </td><td style=\"text-align: right;\">             2.5297e+09 </td><td style=\"text-align: right;\">               626</td><td style=\"text-align: right;\">                 0.000783</td><td>XGBoost        </td></tr>\n",
       "<tr><td>GBM_4_AutoML_1_20240123_104514                         </td><td style=\"text-align: right;\">50879  </td><td style=\"text-align: right;\">2.58867e+09</td><td style=\"text-align: right;\">32500.5</td><td style=\"text-align: right;\">nan       </td><td style=\"text-align: right;\">             2.58867e+09</td><td style=\"text-align: right;\">               572</td><td style=\"text-align: right;\">                 0.019436</td><td>GBM            </td></tr>\n",
       "<tr><td>GBM_3_AutoML_1_20240123_104514                         </td><td style=\"text-align: right;\">52872.5</td><td style=\"text-align: right;\">2.7955e+09 </td><td style=\"text-align: right;\">33727.5</td><td style=\"text-align: right;\">nan       </td><td style=\"text-align: right;\">             2.7955e+09 </td><td style=\"text-align: right;\">               493</td><td style=\"text-align: right;\">                 0.018763</td><td>GBM            </td></tr>\n",
       "<tr><td>GBM_2_AutoML_1_20240123_104514                         </td><td style=\"text-align: right;\">53449.7</td><td style=\"text-align: right;\">2.85687e+09</td><td style=\"text-align: right;\">34098.3</td><td style=\"text-align: right;\">nan       </td><td style=\"text-align: right;\">             2.85687e+09</td><td style=\"text-align: right;\">               483</td><td style=\"text-align: right;\">                 0.019868</td><td>GBM            </td></tr>\n",
       "</tbody>\n",
       "</table><pre style='font-size: smaller; margin-bottom: 1em;'>[12 rows x 9 columns]</pre>"
      ],
      "text/plain": [
       "model_id                                                    rmse          mse      mae       rmsle    mean_residual_deviance    training_time_ms    predict_time_per_row_ms  algo\n",
       "-------------------------------------------------------  -------  -----------  -------  ----------  ------------------------  ------------------  -------------------------  ---------------\n",
       "StackedEnsemble_BestOfFamily_1_AutoML_1_20240123_104514  40023.9  1.60191e+09  23940    nan                      1.60191e+09               21768                   0.07626   StackedEnsemble\n",
       "StackedEnsemble_AllModels_1_AutoML_1_20240123_104514     40024.9  1.60199e+09  23946.6  nan                      1.60199e+09               67600                   0.038144  StackedEnsemble\n",
       "XRT_1_AutoML_1_20240123_104514                           43085.2  1.85634e+09  24856.9    0.37088                1.85634e+09                1553                   0.009842  DRF\n",
       "DRF_1_AutoML_1_20240123_104514                           43342.2  1.87854e+09  24747.5    0.370745               1.87854e+09                1224                   0.009703  DRF\n",
       "XGBoost_1_AutoML_1_20240123_104514                       44082.1  1.94324e+09  27147.4  nan                      1.94324e+09                1379                   0.009733  XGBoost\n",
       "XGBoost_2_AutoML_1_20240123_104514                       45898.4  2.10667e+09  28635.8  nan                      2.10667e+09                 948                   0.008646  XGBoost\n",
       "XGBoost_3_AutoML_1_20240123_104514                       50296.1  2.5297e+09   31898.7  nan                      2.5297e+09                  626                   0.000783  XGBoost\n",
       "GBM_4_AutoML_1_20240123_104514                           50879    2.58867e+09  32500.5  nan                      2.58867e+09                 572                   0.019436  GBM\n",
       "GBM_3_AutoML_1_20240123_104514                           52872.5  2.7955e+09   33727.5  nan                      2.7955e+09                  493                   0.018763  GBM\n",
       "GBM_2_AutoML_1_20240123_104514                           53449.7  2.85687e+09  34098.3  nan                      2.85687e+09                 483                   0.019868  GBM\n",
       "[12 rows x 9 columns]\n"
      ]
     },
     "execution_count": 12,
     "metadata": {},
     "output_type": "execute_result"
    }
   ],
   "source": [
    "lb"
   ]
  },
  {
   "cell_type": "code",
   "execution_count": 9,
   "metadata": {},
   "outputs": [
    {
     "name": "stderr",
     "output_type": "stream",
     "text": [
      "/opt/conda/lib/python3.10/site-packages/h2o/frame.py:1979: H2ODependencyWarning: converting H2O frame to pandas dataframe using single-thread.  For faster conversion using multi-thread, install datatable (for Python 3.9 or lower), or polars and pyarrow (for Python 3.10 or above).\n",
      "  warnings.warn(\"converting H2O frame to pandas dataframe using single-thread.  For faster conversion using\"\n"
     ]
    }
   ],
   "source": [
    "# 예측 결과를 pandas 데이터프레임으로 변환\n",
    "preds_df = preds.as_data_frame()\n",
    "\n",
    "# 데이터프레임을 CSV 파일로 저장\n",
    "preds_df.to_csv('predictions.csv', index=False)"
   ]
  }
 ],
 "metadata": {
  "kernelspec": {
   "display_name": "base",
   "language": "python",
   "name": "python3"
  },
  "language_info": {
   "codemirror_mode": {
    "name": "ipython",
    "version": 3
   },
   "file_extension": ".py",
   "mimetype": "text/x-python",
   "name": "python",
   "nbconvert_exporter": "python",
   "pygments_lexer": "ipython3",
   "version": "3.10.13"
  }
 },
 "nbformat": 4,
 "nbformat_minor": 2
}
