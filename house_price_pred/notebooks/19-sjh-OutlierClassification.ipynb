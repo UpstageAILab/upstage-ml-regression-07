{
 "cells": [
  {
   "cell_type": "code",
   "execution_count": 92,
   "metadata": {},
   "outputs": [],
   "source": [
    "# visualization\n",
    "import matplotlib.pyplot as plt\n",
    "import matplotlib.font_manager as fm\n",
    "fe = fm.FontEntry(\n",
    "    fname=r'/usr/share/fonts/truetype/nanum/NanumGothic.ttf', # ttf 파일이 저장되어 있는 경로\n",
    "    name='NanumBarunGothic')                        # 이 폰트의 원하는 이름 설정\n",
    "fm.fontManager.ttflist.insert(0, fe)              # Matplotlib에 폰트 추가\n",
    "plt.rcParams.update({'font.size': 10, 'font.family': 'NanumBarunGothic'}) # 폰트 설정\n",
    "plt.rc('font', family='NanumBarunGothic')\n",
    "import seaborn as sns\n",
    "\n",
    "# utils\n",
    "import pandas as pd\n",
    "import numpy as np\n",
    "from tqdm import tqdm\n",
    "import pickle\n",
    "import warnings;warnings.filterwarnings('ignore')\n",
    "\n",
    "# Model\n",
    "from sklearn.preprocessing import LabelEncoder\n",
    "from sklearn.model_selection import train_test_split\n",
    "from sklearn.metrics import mean_squared_error\n",
    "from sklearn.ensemble import RandomForestRegressor\n",
    "from sklearn import metrics\n",
    "\n",
    "import eli5\n",
    "from eli5.sklearn import PermutationImportance\n",
    "pd.set_option('display.max_columns', None)\n",
    "\n",
    "\n",
    "from lightgbm.sklearn import LGBMRegressor\n",
    "from lightgbm.sklearn import LGBMClassifier\n",
    "\n",
    "# KFold(CV), partial : optuna를 사용하기 위함\n",
    "from sklearn.model_selection import KFold\n",
    "from functools import partial\n",
    "\n",
    "# hyper-parameter tuning을 위한 라이브러리, optuna\n",
    "import optuna\n",
    "\n",
    "import math\n"
   ]
  },
  {
   "cell_type": "code",
   "execution_count": 93,
   "metadata": {},
   "outputs": [],
   "source": [
    "import random, os \n",
    "def seed_everything(seed):\n",
    "    random.seed(seed)\n",
    "    os.environ['PYTHONHASHSEED'] = str(seed)\n",
    "    #pythonhashseed 환경변수 설정\n",
    "    np.random.seed(seed)\n",
    "\n",
    "seed_everything(42)"
   ]
  },
  {
   "cell_type": "code",
   "execution_count": 94,
   "metadata": {},
   "outputs": [
    {
     "data": {
      "text/html": [
       "<div>\n",
       "<style scoped>\n",
       "    .dataframe tbody tr th:only-of-type {\n",
       "        vertical-align: middle;\n",
       "    }\n",
       "\n",
       "    .dataframe tbody tr th {\n",
       "        vertical-align: top;\n",
       "    }\n",
       "\n",
       "    .dataframe thead th {\n",
       "        text-align: right;\n",
       "    }\n",
       "</style>\n",
       "<table border=\"1\" class=\"dataframe\">\n",
       "  <thead>\n",
       "    <tr style=\"text-align: right;\">\n",
       "      <th></th>\n",
       "      <th>index</th>\n",
       "      <th>복도유형</th>\n",
       "      <th>난방방식</th>\n",
       "      <th>전용면적</th>\n",
       "      <th>계약일</th>\n",
       "      <th>층</th>\n",
       "      <th>건축년도</th>\n",
       "      <th>x</th>\n",
       "      <th>y</th>\n",
       "      <th>아파트명</th>\n",
       "      <th>계약년월</th>\n",
       "      <th>도로명_x</th>\n",
       "      <th>도로명주소</th>\n",
       "      <th>mean_지상층수</th>\n",
       "      <th>sum_세대수</th>\n",
       "      <th>sum_연면적</th>\n",
       "      <th>mean_연면적</th>\n",
       "      <th>mean_높이</th>\n",
       "      <th>sum_건축면적</th>\n",
       "      <th>mean_건축면적</th>\n",
       "      <th>부속건축물수</th>\n",
       "      <th>target</th>\n",
       "      <th>동</th>\n",
       "      <th>시군구</th>\n",
       "      <th>bus_min_dist</th>\n",
       "      <th>sub_min_dist</th>\n",
       "      <th>한강거리</th>\n",
       "      <th>소비자전세물가지수</th>\n",
       "      <th>소비자월세물가지수</th>\n",
       "      <th>총인구수</th>\n",
       "      <th>연GDP</th>\n",
       "      <th>기준금리</th>\n",
       "      <th>dist_to_nearest_school</th>\n",
       "      <th>bus_count_500</th>\n",
       "      <th>bus_count_1000</th>\n",
       "      <th>bus_count_1500</th>\n",
       "      <th>bus_count_2000</th>\n",
       "      <th>is_station_area</th>\n",
       "      <th>대장아파트_거리</th>\n",
       "      <th>도로명</th>\n",
       "      <th>전용면적_filtered</th>\n",
       "      <th>is_test</th>\n",
       "      <th>이전가격</th>\n",
       "      <th>매매수급동향</th>\n",
       "      <th>도로명_split</th>\n",
       "      <th>주차대수</th>\n",
       "      <th>k-전체세대수</th>\n",
       "      <th>세대수당_주차대수</th>\n",
       "      <th>년도별_세대수당_평균_주차대수</th>\n",
       "      <th>건물나이</th>\n",
       "      <th>최고층</th>\n",
       "      <th>최저층</th>\n",
       "      <th>빌딩간격</th>\n",
       "      <th>거래날차이</th>\n",
       "      <th>2016_ratio</th>\n",
       "      <th>2017_ratio</th>\n",
       "      <th>2018_ratio</th>\n",
       "      <th>2019_ratio</th>\n",
       "      <th>2020_ratio</th>\n",
       "      <th>2021_ratio</th>\n",
       "      <th>2022_ratio</th>\n",
       "      <th>2023_ratio</th>\n",
       "    </tr>\n",
       "  </thead>\n",
       "  <tbody>\n",
       "    <tr>\n",
       "      <th>0</th>\n",
       "      <td>1000333</td>\n",
       "      <td>계단식</td>\n",
       "      <td>개별난방</td>\n",
       "      <td>75.73</td>\n",
       "      <td>1</td>\n",
       "      <td>3</td>\n",
       "      <td>1997</td>\n",
       "      <td>126.827102</td>\n",
       "      <td>37.54024</td>\n",
       "      <td>우림</td>\n",
       "      <td>201703</td>\n",
       "      <td>10</td>\n",
       "      <td>서울특별시 양천구  10</td>\n",
       "      <td>16.725022</td>\n",
       "      <td>1041.739764</td>\n",
       "      <td>120478.247245</td>\n",
       "      <td>14143.615087</td>\n",
       "      <td>38.58524</td>\n",
       "      <td>12803.545889</td>\n",
       "      <td>1150.29738</td>\n",
       "      <td>6.001762</td>\n",
       "      <td>24806.0</td>\n",
       "      <td>신월동</td>\n",
       "      <td>서울특별시 양천구 신월동</td>\n",
       "      <td>0.123109</td>\n",
       "      <td>1.100174</td>\n",
       "      <td>0.657924</td>\n",
       "      <td>96.34</td>\n",
       "      <td>100.19</td>\n",
       "      <td>475018</td>\n",
       "      <td>41374</td>\n",
       "      <td>1.25</td>\n",
       "      <td>0.116144</td>\n",
       "      <td>19</td>\n",
       "      <td>27</td>\n",
       "      <td>79</td>\n",
       "      <td>82</td>\n",
       "      <td>0</td>\n",
       "      <td>4.354641</td>\n",
       "      <td>10</td>\n",
       "      <td>7.0</td>\n",
       "      <td>0</td>\n",
       "      <td>24806.0</td>\n",
       "      <td>101.0</td>\n",
       "      <td>10</td>\n",
       "      <td>262.0</td>\n",
       "      <td>270.0</td>\n",
       "      <td>0.97037</td>\n",
       "      <td>0.853052</td>\n",
       "      <td>26</td>\n",
       "      <td>6</td>\n",
       "      <td>3</td>\n",
       "      <td>3</td>\n",
       "      <td>0.0</td>\n",
       "      <td>40.951679</td>\n",
       "      <td>42.799615</td>\n",
       "      <td>44.40444</td>\n",
       "      <td>45.772043</td>\n",
       "      <td>46.834695</td>\n",
       "      <td>49.3915</td>\n",
       "      <td>50.592857</td>\n",
       "      <td>52.183484</td>\n",
       "    </tr>\n",
       "  </tbody>\n",
       "</table>\n",
       "</div>"
      ],
      "text/plain": [
       "     index 복도유형  난방방식   전용면적  계약일  층  건축년도           x         y 아파트명    계약년월  \\\n",
       "0  1000333  계단식  개별난방  75.73    1  3  1997  126.827102  37.54024   우림  201703   \n",
       "\n",
       "  도로명_x          도로명주소  mean_지상층수      sum_세대수        sum_연면적      mean_연면적  \\\n",
       "0    10  서울특별시 양천구  10  16.725022  1041.739764  120478.247245  14143.615087   \n",
       "\n",
       "    mean_높이      sum_건축면적   mean_건축면적    부속건축물수   target    동            시군구  \\\n",
       "0  38.58524  12803.545889  1150.29738  6.001762  24806.0  신월동  서울특별시 양천구 신월동   \n",
       "\n",
       "   bus_min_dist  sub_min_dist      한강거리  소비자전세물가지수  소비자월세물가지수    총인구수   연GDP  \\\n",
       "0      0.123109      1.100174  0.657924      96.34     100.19  475018  41374   \n",
       "\n",
       "   기준금리  dist_to_nearest_school  bus_count_500  bus_count_1000  \\\n",
       "0  1.25                0.116144             19              27   \n",
       "\n",
       "   bus_count_1500  bus_count_2000  is_station_area  대장아파트_거리  도로명  \\\n",
       "0              79              82                0  4.354641   10   \n",
       "\n",
       "   전용면적_filtered  is_test     이전가격  매매수급동향 도로명_split   주차대수  k-전체세대수  \\\n",
       "0            7.0        0  24806.0   101.0        10  262.0    270.0   \n",
       "\n",
       "   세대수당_주차대수  년도별_세대수당_평균_주차대수  건물나이  최고층  최저층  빌딩간격  거래날차이  2016_ratio  \\\n",
       "0    0.97037          0.853052    26    6    3     3    0.0   40.951679   \n",
       "\n",
       "   2017_ratio  2018_ratio  2019_ratio  2020_ratio  2021_ratio  2022_ratio  \\\n",
       "0   42.799615    44.40444   45.772043   46.834695     49.3915   50.592857   \n",
       "\n",
       "   2023_ratio  \n",
       "0   52.183484  "
      ]
     },
     "execution_count": 94,
     "metadata": {},
     "output_type": "execute_result"
    }
   ],
   "source": [
    "data = pd.read_csv(\"/data/ephemeral/home/upstage-ml-regression-07/house_price_pred/notebooks/SJH/data/0122_total_data.csv\")\n",
    "data.head(1)"
   ]
  },
  {
   "cell_type": "code",
   "execution_count": 95,
   "metadata": {},
   "outputs": [],
   "source": [
    "train = data[data['is_test'] == 0]\n",
    "test = data[data['is_test'] == 1]"
   ]
  },
  {
   "cell_type": "code",
   "execution_count": 96,
   "metadata": {},
   "outputs": [],
   "source": [
    "train = train.sort_values(by='index')\n",
    "test = test.sort_values(by='index')"
   ]
  },
  {
   "cell_type": "code",
   "execution_count": 97,
   "metadata": {},
   "outputs": [],
   "source": [
    "train = train.set_index('index')\n",
    "test = test.set_index('index')"
   ]
  },
  {
   "cell_type": "code",
   "execution_count": 98,
   "metadata": {},
   "outputs": [],
   "source": [
    "train.drop(columns='is_test', inplace=True)\n",
    "test.drop(columns='is_test', inplace=True)"
   ]
  },
  {
   "cell_type": "code",
   "execution_count": 99,
   "metadata": {},
   "outputs": [
    {
     "data": {
      "text/plain": [
       "Index(['복도유형', '난방방식', '전용면적', '계약일', '층', '건축년도', 'x', 'y', '아파트명', '계약년월',\n",
       "       '도로명_x', '도로명주소', 'mean_지상층수', 'sum_세대수', 'sum_연면적', 'mean_연면적',\n",
       "       'mean_높이', 'sum_건축면적', 'mean_건축면적', '부속건축물수', 'target', '동', '시군구',\n",
       "       'bus_min_dist', 'sub_min_dist', '한강거리', '소비자전세물가지수', '소비자월세물가지수',\n",
       "       '총인구수', '연GDP', '기준금리', 'dist_to_nearest_school', 'bus_count_500',\n",
       "       'bus_count_1000', 'bus_count_1500', 'bus_count_2000', 'is_station_area',\n",
       "       '대장아파트_거리', '도로명', '전용면적_filtered', '이전가격', '매매수급동향', '도로명_split',\n",
       "       '주차대수', 'k-전체세대수', '세대수당_주차대수', '년도별_세대수당_평균_주차대수', '건물나이', '최고층',\n",
       "       '최저층', '빌딩간격', '거래날차이', '2016_ratio', '2017_ratio', '2018_ratio',\n",
       "       '2019_ratio', '2020_ratio', '2021_ratio', '2022_ratio', '2023_ratio'],\n",
       "      dtype='object')"
      ]
     },
     "execution_count": 99,
     "metadata": {},
     "output_type": "execute_result"
    }
   ],
   "source": [
    "train.columns"
   ]
  },
  {
   "cell_type": "code",
   "execution_count": 100,
   "metadata": {},
   "outputs": [],
   "source": [
    "drop_cols = ['계약일','도로명주소','도로명_x','mean_높이','bus_min_dist','sub_min_dist','소비자전세물가지수','소비자월세물가지수','총인구수','연GDP','bus_count_1500','bus_count_2000','도로명','도로명_split','전용면적_filtered','매매수급동향','주차대수','k-전체세대수','세대수당_주차대수','년도별_세대수당_평균_주차대수','건물나이','2016_ratio','2017_ratio','2018_ratio','2019_ratio','2021_ratio','2022_ratio','2023_ratio']\n",
    "train.drop(columns=drop_cols, inplace=True)\n",
    "test.drop(columns=drop_cols, inplace=True)"
   ]
  },
  {
   "cell_type": "code",
   "execution_count": 101,
   "metadata": {},
   "outputs": [
    {
     "data": {
      "text/plain": [
       "((1118822, 32), (9272, 32))"
      ]
     },
     "execution_count": 101,
     "metadata": {},
     "output_type": "execute_result"
    }
   ],
   "source": [
    "train.shape, test.shape"
   ]
  },
  {
   "cell_type": "code",
   "execution_count": 102,
   "metadata": {},
   "outputs": [],
   "source": [
    "train['구'] = train['시군구'].apply(lambda x: x.split()[1])\n",
    "test['구'] = test['시군구'].apply(lambda x: x.split()[1])\n",
    "train.drop(columns=['시군구'], inplace=True)\n",
    "test.drop(columns=['시군구'], inplace=True)"
   ]
  },
  {
   "cell_type": "code",
   "execution_count": 103,
   "metadata": {},
   "outputs": [
    {
     "data": {
      "text/plain": [
       "(156590, 32)"
      ]
     },
     "execution_count": 103,
     "metadata": {},
     "output_type": "execute_result"
    }
   ],
   "source": [
    "train = train[train['계약년월'] > 201912]\n",
    "train.shape"
   ]
  },
  {
   "cell_type": "code",
   "execution_count": 104,
   "metadata": {},
   "outputs": [
    {
     "data": {
      "text/plain": [
       "(146476, 9722, 392)"
      ]
     },
     "execution_count": 104,
     "metadata": {},
     "output_type": "execute_result"
    }
   ],
   "source": [
    "len(train[train['target'] < 200000]), len(train[(train['target'] >= 200000) & (train['target'] < 500000)]), len(train[(train['target'] >= 500000)])"
   ]
  },
  {
   "cell_type": "code",
   "execution_count": 105,
   "metadata": {},
   "outputs": [
    {
     "data": {
      "text/plain": [
       "'\\n x < 200,000 : 0\\n 200,000 < x < 500,000 : 1\\n x > 500,000 : 2\\n'"
      ]
     },
     "execution_count": 105,
     "metadata": {},
     "output_type": "execute_result"
    }
   ],
   "source": [
    "'''\n",
    " x < 200,000 : 0\n",
    " 200,000 < x < 500,000 : 1\n",
    " x > 500,000 : 2\n",
    "''' "
   ]
  },
  {
   "cell_type": "code",
   "execution_count": 106,
   "metadata": {},
   "outputs": [],
   "source": [
    "train['is_outlier'] = 0\n",
    "train.loc[train['target'] < 200000, 'is_outlier'] = 0\n",
    "train.loc[(train['target'] >= 200000) & (train['target'] < 500000), 'is_outlier'] = 1\n",
    "train.loc[(train['target'] >= 500000), 'is_outlier'] = 2"
   ]
  },
  {
   "cell_type": "code",
   "execution_count": 107,
   "metadata": {},
   "outputs": [
    {
     "data": {
      "text/plain": [
       "Index(['복도유형', '난방방식', '전용면적', '층', '건축년도', 'x', 'y', '아파트명', '계약년월',\n",
       "       'mean_지상층수', 'sum_세대수', 'sum_연면적', 'mean_연면적', 'sum_건축면적', 'mean_건축면적',\n",
       "       '부속건축물수', 'target', '동', '한강거리', '기준금리', 'dist_to_nearest_school',\n",
       "       'bus_count_500', 'bus_count_1000', 'is_station_area', '대장아파트_거리',\n",
       "       '이전가격', '최고층', '최저층', '빌딩간격', '거래날차이', '2020_ratio', '구', 'is_outlier'],\n",
       "      dtype='object')"
      ]
     },
     "execution_count": 107,
     "metadata": {},
     "output_type": "execute_result"
    }
   ],
   "source": [
    "train.columns"
   ]
  },
  {
   "cell_type": "code",
   "execution_count": 108,
   "metadata": {},
   "outputs": [
    {
     "data": {
      "text/plain": [
       "['복도유형', '난방방식', '아파트명', '동', '구']"
      ]
     },
     "metadata": {},
     "output_type": "display_data"
    }
   ],
   "source": [
    "categorical_features = list(train.dtypes[train.dtypes == \"object\"].index) #object값 list에 넣음\n",
    "# 추출된 문자열 변수 확인\n",
    "display(categorical_features) #object값 출력"
   ]
  },
  {
   "cell_type": "code",
   "execution_count": 109,
   "metadata": {},
   "outputs": [
    {
     "name": "stderr",
     "output_type": "stream",
     "text": [
      "100%|██████████| 5/5 [00:00<00:00, 16.58it/s]\n"
     ]
    }
   ],
   "source": [
    "def label_encoding(train_x, test, categorical_features):\n",
    "    # 각 변수에 대한 LabelEncoder를 저장할 딕셔너리\n",
    "    label_encoders = {}\n",
    "\n",
    "    # Implement Label Encoding\n",
    "    for col in tqdm( categorical_features ):\n",
    "        lbl = LabelEncoder()\n",
    "\n",
    "        # Label-Encoding을 fit\n",
    "        lbl.fit(train_x[col].astype(str) )\n",
    "        train_x[col] = lbl.transform(train_x[col].astype(str))\n",
    "        label_encoders[col] = lbl           # 나중에 후처리를 위해 레이블인코더를 저장해주겠습니다.\n",
    "\n",
    "        # # Test 데이터에만 존재하는 새로 출현한 데이터를 신규 클래스로 추가해줍니다.\n",
    "        for label in np.unique(test[col]):\n",
    "            if label not in lbl.classes_: # unseen label 데이터인 경우\n",
    "                lbl.classes_ = np.append(lbl.classes_, label) # 미처리 시 ValueError발생하니 주의하세요!\n",
    "\n",
    "        test[col] = lbl.transform(test[col].astype(str))\n",
    "\n",
    "label_encoding(train_x=train, test=test, categorical_features=categorical_features)"
   ]
  },
  {
   "cell_type": "code",
   "execution_count": 110,
   "metadata": {},
   "outputs": [
    {
     "data": {
      "text/plain": [
       "Index(['복도유형', '난방방식', '전용면적', '층', '건축년도', 'x', 'y', '아파트명', '계약년월',\n",
       "       'mean_지상층수', 'sum_세대수', 'sum_연면적', 'mean_연면적', 'sum_건축면적', 'mean_건축면적',\n",
       "       '부속건축물수', 'target', '동', '한강거리', '기준금리', 'dist_to_nearest_school',\n",
       "       'bus_count_500', 'bus_count_1000', 'is_station_area', '대장아파트_거리',\n",
       "       '이전가격', '최고층', '최저층', '빌딩간격', '거래날차이', '2020_ratio', '구', 'is_outlier'],\n",
       "      dtype='object')"
      ]
     },
     "execution_count": 110,
     "metadata": {},
     "output_type": "execute_result"
    }
   ],
   "source": [
    "train.columns"
   ]
  },
  {
   "cell_type": "code",
   "execution_count": 111,
   "metadata": {},
   "outputs": [],
   "source": [
    "train_x = train.drop(columns=['target', 'is_outlier'])\n",
    "train_y = train['is_outlier']"
   ]
  },
  {
   "cell_type": "code",
   "execution_count": 112,
   "metadata": {},
   "outputs": [
    {
     "name": "stdout",
     "output_type": "stream",
     "text": [
      "(125272, 31) (125272,) (31318, 31) (31318,)\n"
     ]
    }
   ],
   "source": [
    "# 데이터셋 분할\n",
    "\n",
    "X_train, X_val, y_train, y_val = train_test_split(train_x, train_y, test_size=0.2, random_state=42, stratify=train_y) # 0.05 -> k-fold 시 사용하는 테크닉\n",
    "print(X_train.shape, y_train.shape, X_val.shape, y_val.shape)"
   ]
  },
  {
   "cell_type": "code",
   "execution_count": 113,
   "metadata": {},
   "outputs": [
    {
     "data": {
      "text/html": [
       "<style>#sk-container-id-4 {color: black;background-color: white;}#sk-container-id-4 pre{padding: 0;}#sk-container-id-4 div.sk-toggleable {background-color: white;}#sk-container-id-4 label.sk-toggleable__label {cursor: pointer;display: block;width: 100%;margin-bottom: 0;padding: 0.3em;box-sizing: border-box;text-align: center;}#sk-container-id-4 label.sk-toggleable__label-arrow:before {content: \"▸\";float: left;margin-right: 0.25em;color: #696969;}#sk-container-id-4 label.sk-toggleable__label-arrow:hover:before {color: black;}#sk-container-id-4 div.sk-estimator:hover label.sk-toggleable__label-arrow:before {color: black;}#sk-container-id-4 div.sk-toggleable__content {max-height: 0;max-width: 0;overflow: hidden;text-align: left;background-color: #f0f8ff;}#sk-container-id-4 div.sk-toggleable__content pre {margin: 0.2em;color: black;border-radius: 0.25em;background-color: #f0f8ff;}#sk-container-id-4 input.sk-toggleable__control:checked~div.sk-toggleable__content {max-height: 200px;max-width: 100%;overflow: auto;}#sk-container-id-4 input.sk-toggleable__control:checked~label.sk-toggleable__label-arrow:before {content: \"▾\";}#sk-container-id-4 div.sk-estimator input.sk-toggleable__control:checked~label.sk-toggleable__label {background-color: #d4ebff;}#sk-container-id-4 div.sk-label input.sk-toggleable__control:checked~label.sk-toggleable__label {background-color: #d4ebff;}#sk-container-id-4 input.sk-hidden--visually {border: 0;clip: rect(1px 1px 1px 1px);clip: rect(1px, 1px, 1px, 1px);height: 1px;margin: -1px;overflow: hidden;padding: 0;position: absolute;width: 1px;}#sk-container-id-4 div.sk-estimator {font-family: monospace;background-color: #f0f8ff;border: 1px dotted black;border-radius: 0.25em;box-sizing: border-box;margin-bottom: 0.5em;}#sk-container-id-4 div.sk-estimator:hover {background-color: #d4ebff;}#sk-container-id-4 div.sk-parallel-item::after {content: \"\";width: 100%;border-bottom: 1px solid gray;flex-grow: 1;}#sk-container-id-4 div.sk-label:hover label.sk-toggleable__label {background-color: #d4ebff;}#sk-container-id-4 div.sk-serial::before {content: \"\";position: absolute;border-left: 1px solid gray;box-sizing: border-box;top: 0;bottom: 0;left: 50%;z-index: 0;}#sk-container-id-4 div.sk-serial {display: flex;flex-direction: column;align-items: center;background-color: white;padding-right: 0.2em;padding-left: 0.2em;position: relative;}#sk-container-id-4 div.sk-item {position: relative;z-index: 1;}#sk-container-id-4 div.sk-parallel {display: flex;align-items: stretch;justify-content: center;background-color: white;position: relative;}#sk-container-id-4 div.sk-item::before, #sk-container-id-4 div.sk-parallel-item::before {content: \"\";position: absolute;border-left: 1px solid gray;box-sizing: border-box;top: 0;bottom: 0;left: 50%;z-index: -1;}#sk-container-id-4 div.sk-parallel-item {display: flex;flex-direction: column;z-index: 1;position: relative;background-color: white;}#sk-container-id-4 div.sk-parallel-item:first-child::after {align-self: flex-end;width: 50%;}#sk-container-id-4 div.sk-parallel-item:last-child::after {align-self: flex-start;width: 50%;}#sk-container-id-4 div.sk-parallel-item:only-child::after {width: 0;}#sk-container-id-4 div.sk-dashed-wrapped {border: 1px dashed gray;margin: 0 0.4em 0.5em 0.4em;box-sizing: border-box;padding-bottom: 0.4em;background-color: white;}#sk-container-id-4 div.sk-label label {font-family: monospace;font-weight: bold;display: inline-block;line-height: 1.2em;}#sk-container-id-4 div.sk-label-container {text-align: center;}#sk-container-id-4 div.sk-container {/* jupyter's `normalize.less` sets `[hidden] { display: none; }` but bootstrap.min.css set `[hidden] { display: none !important; }` so we also need the `!important` here to be able to override the default hidden behavior on the sphinx rendered scikit-learn.org. See: https://github.com/scikit-learn/scikit-learn/issues/21755 */display: inline-block !important;position: relative;}#sk-container-id-4 div.sk-text-repr-fallback {display: none;}</style><div id=\"sk-container-id-4\" class=\"sk-top-container\"><div class=\"sk-text-repr-fallback\"><pre>RandomForestClassifier(random_state=42)</pre><b>In a Jupyter environment, please rerun this cell to show the HTML representation or trust the notebook. <br />On GitHub, the HTML representation is unable to render, please try loading this page with nbviewer.org.</b></div><div class=\"sk-container\" hidden><div class=\"sk-item\"><div class=\"sk-estimator sk-toggleable\"><input class=\"sk-toggleable__control sk-hidden--visually\" id=\"sk-estimator-id-4\" type=\"checkbox\" checked><label for=\"sk-estimator-id-4\" class=\"sk-toggleable__label sk-toggleable__label-arrow\">RandomForestClassifier</label><div class=\"sk-toggleable__content\"><pre>RandomForestClassifier(random_state=42)</pre></div></div></div></div></div>"
      ],
      "text/plain": [
       "RandomForestClassifier(random_state=42)"
      ]
     },
     "execution_count": 113,
     "metadata": {},
     "output_type": "execute_result"
    }
   ],
   "source": [
    "from sklearn.ensemble import RandomForestClassifier\n",
    "from sklearn.metrics import classification_report, confusion_matrix\n",
    "\n",
    "clf = RandomForestClassifier(random_state=42)\n",
    "clf.fit(X_train, y_train)\n"
   ]
  },
  {
   "cell_type": "code",
   "execution_count": 114,
   "metadata": {},
   "outputs": [],
   "source": [
    "y_pred = clf.predict(X_val)"
   ]
  },
  {
   "cell_type": "code",
   "execution_count": 115,
   "metadata": {},
   "outputs": [
    {
     "name": "stdout",
     "output_type": "stream",
     "text": [
      "Classification Report:\n",
      "              precision    recall  f1-score   support\n",
      "\n",
      "           0       0.99      0.99      0.99     29295\n",
      "           1       0.91      0.88      0.89      1944\n",
      "           2       0.90      0.76      0.82        79\n",
      "\n",
      "    accuracy                           0.99     31318\n",
      "   macro avg       0.93      0.88      0.90     31318\n",
      "weighted avg       0.99      0.99      0.99     31318\n",
      "\n"
     ]
    }
   ],
   "source": [
    "# Evaluate the classifier\n",
    "print(\"Classification Report:\")\n",
    "print(classification_report(y_val, y_pred))"
   ]
  },
  {
   "cell_type": "code",
   "execution_count": 116,
   "metadata": {},
   "outputs": [
    {
     "name": "stdout",
     "output_type": "stream",
     "text": [
      "Confusion Matrix:\n",
      "[[29142   153     0]\n",
      " [  236  1701     7]\n",
      " [    0    19    60]]\n"
     ]
    }
   ],
   "source": [
    "print(\"Confusion Matrix:\")\n",
    "print(confusion_matrix(y_val, y_pred))"
   ]
  },
  {
   "cell_type": "code",
   "execution_count": 117,
   "metadata": {},
   "outputs": [
    {
     "data": {
      "text/plain": [
       "0    29295\n",
       "1     1944\n",
       "2       79\n",
       "Name: is_outlier, dtype: int64"
      ]
     },
     "execution_count": 117,
     "metadata": {},
     "output_type": "execute_result"
    }
   ],
   "source": [
    "y_val.value_counts()"
   ]
  },
  {
   "cell_type": "code",
   "execution_count": 118,
   "metadata": {},
   "outputs": [
    {
     "name": "stdout",
     "output_type": "stream",
     "text": [
      "(148760, 31) (148760,) (7830, 31) (7830,)\n"
     ]
    }
   ],
   "source": [
    "# 데이터셋 분할\n",
    "\n",
    "X_train, X_val, y_train, y_val = train_test_split(train_x, train_y, test_size=0.05, random_state=42, stratify=train_y) # 0.05 -> k-fold 시 사용하는 테크닉\n",
    "print(X_train.shape, y_train.shape, X_val.shape, y_val.shape)"
   ]
  },
  {
   "cell_type": "code",
   "execution_count": 119,
   "metadata": {},
   "outputs": [],
   "source": [
    "from sklearn.metrics import f1_score\n",
    "evaluation_metric = f1_score"
   ]
  },
  {
   "cell_type": "code",
   "execution_count": 120,
   "metadata": {},
   "outputs": [],
   "source": [
    "def optimizer(trial, X, y, K):\n",
    "    # 조절할 hyper-parameter 조합을 적어줍니다.  # bayesian optimization\n",
    "    n_estimators = trial.suggest_int('n_estimators', 50, 200)\n",
    "    max_depth = trial.suggest_int('max_depth', 5, 10)\n",
    "    min_samples_split = trial.suggest_categorical('min_samples_split', [2, 10, 25])\n",
    "    min_samples_leaf = trial.suggest_int('min_samples_leaf', 1, 10)\n",
    "    max_features = trial.suggest_float('max_features', 0.5, 0.8)\n",
    "\n",
    "    model = RandomForestClassifier(n_estimators=n_estimators,\n",
    "                                   max_depth=max_depth,\n",
    "                                   min_samples_split=min_samples_split,\n",
    "                                   min_samples_leaf=min_samples_leaf,\n",
    "                                   max_features=max_features,\n",
    "                                   random_state=42)\n",
    "\n",
    "    # K-Fold Cross validation\n",
    "    folds = KFold(n_splits=K, random_state=42, shuffle=True)\n",
    "    losses = []\n",
    "\n",
    "    for train_idx, val_idx in tqdm(folds.split(X, y)):\n",
    "        X_train = X.iloc[train_idx, :]\n",
    "        y_train = y.iloc[train_idx]\n",
    "\n",
    "        X_val = X.iloc[val_idx, :]\n",
    "        y_val = y.iloc[val_idx]\n",
    "\n",
    "        model.fit(X_train, y_train)\n",
    "        preds = model.predict(X_val)\n",
    "        loss = evaluation_metric(y_val, preds, average='weighted')\n",
    "        losses.append(loss)\n",
    "\n",
    "    return np.mean(losses)"
   ]
  },
  {
   "cell_type": "code",
   "execution_count": 123,
   "metadata": {},
   "outputs": [
    {
     "name": "stderr",
     "output_type": "stream",
     "text": [
      "[I 2024-01-23 07:20:37,018] A new study created in memory with name: no-name-8f10c7de-f99f-4fea-9087-ad91ac3f8e1b\n",
      "5it [04:40, 56.06s/it]\n",
      "[I 2024-01-23 07:25:17,316] Trial 0 finished with value: 0.985013841741506 and parameters: {'n_estimators': 161, 'max_depth': 8, 'min_samples_split': 10, 'min_samples_leaf': 3, 'max_features': 0.589993700994916}. Best is trial 0 with value: 0.985013841741506.\n",
      "5it [01:29, 17.86s/it]\n",
      "[I 2024-01-23 07:26:46,618] Trial 1 finished with value: 0.9847896546410242 and parameters: {'n_estimators': 58, 'max_depth': 8, 'min_samples_split': 25, 'min_samples_leaf': 7, 'max_features': 0.5470698534691593}. Best is trial 1 with value: 0.9847896546410242.\n",
      "5it [05:31, 66.40s/it]\n",
      "[I 2024-01-23 07:32:18,620] Trial 2 finished with value: 0.9850176989163348 and parameters: {'n_estimators': 150, 'max_depth': 8, 'min_samples_split': 10, 'min_samples_leaf': 6, 'max_features': 0.7676285240674918}. Best is trial 1 with value: 0.9847896546410242.\n",
      "5it [08:31, 102.40s/it]\n",
      "[I 2024-01-23 07:40:50,599] Trial 3 finished with value: 0.9853567172280495 and parameters: {'n_estimators': 187, 'max_depth': 10, 'min_samples_split': 10, 'min_samples_leaf': 9, 'max_features': 0.7698055387174745}. Best is trial 1 with value: 0.9847896546410242.\n",
      "5it [02:01, 24.31s/it]\n",
      "[I 2024-01-23 07:42:52,173] Trial 4 finished with value: 0.9850821335991091 and parameters: {'n_estimators': 69, 'max_depth': 9, 'min_samples_split': 10, 'min_samples_leaf': 9, 'max_features': 0.5278091871168775}. Best is trial 1 with value: 0.9847896546410242.\n",
      "5it [04:17, 51.48s/it]\n",
      "[I 2024-01-23 07:47:09,569] Trial 5 finished with value: 0.9851484396031103 and parameters: {'n_estimators': 156, 'max_depth': 9, 'min_samples_split': 10, 'min_samples_leaf': 5, 'max_features': 0.5095105777413396}. Best is trial 1 with value: 0.9847896546410242.\n",
      "5it [03:53, 46.74s/it]\n",
      "[I 2024-01-23 07:51:03,269] Trial 6 finished with value: 0.9845727062698557 and parameters: {'n_estimators': 114, 'max_depth': 7, 'min_samples_split': 2, 'min_samples_leaf': 4, 'max_features': 0.7996225010905559}. Best is trial 6 with value: 0.9845727062698557.\n",
      "5it [04:12, 50.43s/it]\n",
      "[I 2024-01-23 07:55:15,425] Trial 7 finished with value: 0.9835444437151815 and parameters: {'n_estimators': 177, 'max_depth': 5, 'min_samples_split': 2, 'min_samples_leaf': 2, 'max_features': 0.7576576803583164}. Best is trial 7 with value: 0.9835444437151815.\n",
      "5it [02:18, 27.67s/it]\n",
      "[I 2024-01-23 07:57:33,772] Trial 8 finished with value: 0.9849900133674906 and parameters: {'n_estimators': 75, 'max_depth': 8, 'min_samples_split': 2, 'min_samples_leaf': 7, 'max_features': 0.6319154665938647}. Best is trial 7 with value: 0.9835444437151815.\n",
      "5it [01:22, 16.53s/it]\n",
      "[I 2024-01-23 07:58:56,441] Trial 9 finished with value: 0.9833841666015998 and parameters: {'n_estimators': 70, 'max_depth': 5, 'min_samples_split': 25, 'min_samples_leaf': 5, 'max_features': 0.6144061144621422}. Best is trial 9 with value: 0.9833841666015998.\n"
     ]
    }
   ],
   "source": [
    "K = 5\n",
    "opt_func = partial(optimizer, X=X_train, y=y_train, K=K)\n",
    "\n",
    "study = optuna.create_study(direction=\"minimize\")\n",
    "study.optimize(opt_func, n_trials=10)"
   ]
  },
  {
   "cell_type": "code",
   "execution_count": 124,
   "metadata": {},
   "outputs": [
    {
     "name": "stdout",
     "output_type": "stream",
     "text": [
      "Best Score: 0.9834\n",
      "Best params:  {'n_estimators': 70, 'max_depth': 5, 'min_samples_split': 25, 'min_samples_leaf': 5, 'max_features': 0.6144061144621422}\n"
     ]
    }
   ],
   "source": [
    "print(\"Best Score: %.4f\" % study.best_value) # best score 출력\n",
    "print(\"Best params: \", study.best_trial.params) # best score일 때의 하이퍼파라미터들"
   ]
  },
  {
   "cell_type": "code",
   "execution_count": 125,
   "metadata": {},
   "outputs": [
    {
     "name": "stdout",
     "output_type": "stream",
     "text": [
      "Validation ACC\n"
     ]
    }
   ],
   "source": [
    "# model finalization\n",
    "\n",
    "print(\"Validation ACC\")\n",
    "best_params = study.best_params\n",
    "best_model = RandomForestClassifier(**best_params,\n",
    "                                   random_state=42)\n",
    "best_model.fit(X_train, y_train)\n",
    "y_pred = best_model.predict(X_val)"
   ]
  },
  {
   "cell_type": "code",
   "execution_count": 126,
   "metadata": {},
   "outputs": [
    {
     "name": "stdout",
     "output_type": "stream",
     "text": [
      "Classification Report:\n",
      "              precision    recall  f1-score   support\n",
      "\n",
      "           0       0.99      0.99      0.99      7324\n",
      "           1       0.88      0.84      0.86       486\n",
      "           2       0.89      0.85      0.87        20\n",
      "\n",
      "    accuracy                           0.98      7830\n",
      "   macro avg       0.92      0.89      0.91      7830\n",
      "weighted avg       0.98      0.98      0.98      7830\n",
      "\n"
     ]
    }
   ],
   "source": [
    "# Evaluate the classifier\n",
    "print(\"Classification Report:\")\n",
    "print(classification_report(y_val, y_pred))"
   ]
  },
  {
   "cell_type": "code",
   "execution_count": 127,
   "metadata": {},
   "outputs": [
    {
     "name": "stdout",
     "output_type": "stream",
     "text": [
      "Confusion Matrix:\n",
      "[[7271   53    0]\n",
      " [  77  407    2]\n",
      " [   0    3   17]]\n"
     ]
    }
   ],
   "source": [
    "print(\"Confusion Matrix:\")\n",
    "print(confusion_matrix(y_val, y_pred))"
   ]
  },
  {
   "cell_type": "code",
   "execution_count": 128,
   "metadata": {},
   "outputs": [
    {
     "name": "stdout",
     "output_type": "stream",
     "text": [
      "                   Feature  Importance\n",
      "24                    이전가격    0.853163\n",
      "29              2020_ratio    0.067094\n",
      "2                     전용면적    0.036568\n",
      "30                       구    0.009238\n",
      "8                     계약년월    0.008475\n",
      "11                 sum_연면적    0.007695\n",
      "9                mean_지상층수    0.002667\n",
      "4                     건축년도    0.002432\n",
      "10                 sum_세대수    0.002199\n",
      "23                대장아파트_거리    0.001487\n",
      "6                        y    0.001406\n",
      "27                    빌딩간격    0.001363\n",
      "5                        x    0.000888\n",
      "18                    기준금리    0.000754\n",
      "1                     난방방식    0.000683\n",
      "3                        층    0.000624\n",
      "13                sum_건축면적    0.000537\n",
      "14               mean_건축면적    0.000400\n",
      "17                    한강거리    0.000385\n",
      "16                       동    0.000288\n",
      "28                   거래날차이    0.000285\n",
      "12                mean_연면적    0.000275\n",
      "19  dist_to_nearest_school    0.000219\n",
      "21          bus_count_1000    0.000213\n",
      "20           bus_count_500    0.000155\n",
      "25                     최고층    0.000152\n",
      "26                     최저층    0.000124\n",
      "7                     아파트명    0.000099\n",
      "0                     복도유형    0.000086\n",
      "15                  부속건축물수    0.000043\n",
      "22         is_station_area    0.000000\n"
     ]
    },
    {
     "data": {
      "image/png": "[encoded data removed]",
      "text/plain": [
       "<Figure size 1000x600 with 1 Axes>"
      ]
     },
     "metadata": {},
     "output_type": "display_data"
    }
   ],
   "source": [
    "feature_importance = best_model.feature_importances_\n",
    "\n",
    "# Get the names of the features\n",
    "feature_names = X_train.columns  # Assuming X_train is a DataFrame\n",
    "\n",
    "# Create a DataFrame to store feature importance\n",
    "feature_importance_df = pd.DataFrame({'Feature': feature_names, 'Importance': feature_importance})\n",
    "\n",
    "# Sort the features by importance in descending order\n",
    "feature_importance_df = feature_importance_df.sort_values(by='Importance', ascending=False)\n",
    "\n",
    "# Print or visualize the feature importance\n",
    "print(feature_importance_df)\n",
    "\n",
    "# Optionally, plot the feature importances\n",
    "import matplotlib.pyplot as plt\n",
    "\n",
    "plt.figure(figsize=(10, 6))\n",
    "plt.barh(feature_importance_df['Feature'], feature_importance_df['Importance'], color='skyblue')\n",
    "plt.xlabel('Importance')\n",
    "plt.title('Feature Importance')\n",
    "plt.show()"
   ]
  },
  {
   "cell_type": "code",
   "execution_count": 129,
   "metadata": {},
   "outputs": [
    {
     "data": {
      "text/html": [
       "<style>#sk-container-id-5 {color: black;background-color: white;}#sk-container-id-5 pre{padding: 0;}#sk-container-id-5 div.sk-toggleable {background-color: white;}#sk-container-id-5 label.sk-toggleable__label {cursor: pointer;display: block;width: 100%;margin-bottom: 0;padding: 0.3em;box-sizing: border-box;text-align: center;}#sk-container-id-5 label.sk-toggleable__label-arrow:before {content: \"▸\";float: left;margin-right: 0.25em;color: #696969;}#sk-container-id-5 label.sk-toggleable__label-arrow:hover:before {color: black;}#sk-container-id-5 div.sk-estimator:hover label.sk-toggleable__label-arrow:before {color: black;}#sk-container-id-5 div.sk-toggleable__content {max-height: 0;max-width: 0;overflow: hidden;text-align: left;background-color: #f0f8ff;}#sk-container-id-5 div.sk-toggleable__content pre {margin: 0.2em;color: black;border-radius: 0.25em;background-color: #f0f8ff;}#sk-container-id-5 input.sk-toggleable__control:checked~div.sk-toggleable__content {max-height: 200px;max-width: 100%;overflow: auto;}#sk-container-id-5 input.sk-toggleable__control:checked~label.sk-toggleable__label-arrow:before {content: \"▾\";}#sk-container-id-5 div.sk-estimator input.sk-toggleable__control:checked~label.sk-toggleable__label {background-color: #d4ebff;}#sk-container-id-5 div.sk-label input.sk-toggleable__control:checked~label.sk-toggleable__label {background-color: #d4ebff;}#sk-container-id-5 input.sk-hidden--visually {border: 0;clip: rect(1px 1px 1px 1px);clip: rect(1px, 1px, 1px, 1px);height: 1px;margin: -1px;overflow: hidden;padding: 0;position: absolute;width: 1px;}#sk-container-id-5 div.sk-estimator {font-family: monospace;background-color: #f0f8ff;border: 1px dotted black;border-radius: 0.25em;box-sizing: border-box;margin-bottom: 0.5em;}#sk-container-id-5 div.sk-estimator:hover {background-color: #d4ebff;}#sk-container-id-5 div.sk-parallel-item::after {content: \"\";width: 100%;border-bottom: 1px solid gray;flex-grow: 1;}#sk-container-id-5 div.sk-label:hover label.sk-toggleable__label {background-color: #d4ebff;}#sk-container-id-5 div.sk-serial::before {content: \"\";position: absolute;border-left: 1px solid gray;box-sizing: border-box;top: 0;bottom: 0;left: 50%;z-index: 0;}#sk-container-id-5 div.sk-serial {display: flex;flex-direction: column;align-items: center;background-color: white;padding-right: 0.2em;padding-left: 0.2em;position: relative;}#sk-container-id-5 div.sk-item {position: relative;z-index: 1;}#sk-container-id-5 div.sk-parallel {display: flex;align-items: stretch;justify-content: center;background-color: white;position: relative;}#sk-container-id-5 div.sk-item::before, #sk-container-id-5 div.sk-parallel-item::before {content: \"\";position: absolute;border-left: 1px solid gray;box-sizing: border-box;top: 0;bottom: 0;left: 50%;z-index: -1;}#sk-container-id-5 div.sk-parallel-item {display: flex;flex-direction: column;z-index: 1;position: relative;background-color: white;}#sk-container-id-5 div.sk-parallel-item:first-child::after {align-self: flex-end;width: 50%;}#sk-container-id-5 div.sk-parallel-item:last-child::after {align-self: flex-start;width: 50%;}#sk-container-id-5 div.sk-parallel-item:only-child::after {width: 0;}#sk-container-id-5 div.sk-dashed-wrapped {border: 1px dashed gray;margin: 0 0.4em 0.5em 0.4em;box-sizing: border-box;padding-bottom: 0.4em;background-color: white;}#sk-container-id-5 div.sk-label label {font-family: monospace;font-weight: bold;display: inline-block;line-height: 1.2em;}#sk-container-id-5 div.sk-label-container {text-align: center;}#sk-container-id-5 div.sk-container {/* jupyter's `normalize.less` sets `[hidden] { display: none; }` but bootstrap.min.css set `[hidden] { display: none !important; }` so we also need the `!important` here to be able to override the default hidden behavior on the sphinx rendered scikit-learn.org. See: https://github.com/scikit-learn/scikit-learn/issues/21755 */display: inline-block !important;position: relative;}#sk-container-id-5 div.sk-text-repr-fallback {display: none;}</style><div id=\"sk-container-id-5\" class=\"sk-top-container\"><div class=\"sk-text-repr-fallback\"><pre>RandomForestClassifier(max_depth=5, max_features=0.6144061144621422,\n",
       "                       min_samples_leaf=5, min_samples_split=25,\n",
       "                       n_estimators=70, random_state=42)</pre><b>In a Jupyter environment, please rerun this cell to show the HTML representation or trust the notebook. <br />On GitHub, the HTML representation is unable to render, please try loading this page with nbviewer.org.</b></div><div class=\"sk-container\" hidden><div class=\"sk-item\"><div class=\"sk-estimator sk-toggleable\"><input class=\"sk-toggleable__control sk-hidden--visually\" id=\"sk-estimator-id-5\" type=\"checkbox\" checked><label for=\"sk-estimator-id-5\" class=\"sk-toggleable__label sk-toggleable__label-arrow\">RandomForestClassifier</label><div class=\"sk-toggleable__content\"><pre>RandomForestClassifier(max_depth=5, max_features=0.6144061144621422,\n",
       "                       min_samples_leaf=5, min_samples_split=25,\n",
       "                       n_estimators=70, random_state=42)</pre></div></div></div></div></div>"
      ],
      "text/plain": [
       "RandomForestClassifier(max_depth=5, max_features=0.6144061144621422,\n",
       "                       min_samples_leaf=5, min_samples_split=25,\n",
       "                       n_estimators=70, random_state=42)"
      ]
     },
     "execution_count": 129,
     "metadata": {},
     "output_type": "execute_result"
    }
   ],
   "source": [
    "# model finalization\n",
    "best_params = study.best_params\n",
    "best_model = RandomForestClassifier(**best_params,\n",
    "                          random_state=42)\n",
    "best_model.fit(train_x, train_y)\n"
   ]
  },
  {
   "cell_type": "code",
   "execution_count": 130,
   "metadata": {},
   "outputs": [
    {
     "name": "stdout",
     "output_type": "stream",
     "text": [
      "                   Feature  Importance\n",
      "24                    이전가격    0.858962\n",
      "29              2020_ratio    0.069151\n",
      "2                     전용면적    0.034296\n",
      "30                       구    0.009279\n",
      "8                     계약년월    0.008633\n",
      "11                 sum_연면적    0.004002\n",
      "10                 sum_세대수    0.002826\n",
      "1                     난방방식    0.001748\n",
      "4                     건축년도    0.001482\n",
      "23                대장아파트_거리    0.001365\n",
      "6                        y    0.001053\n",
      "9                mean_지상층수    0.000916\n",
      "5                        x    0.000827\n",
      "17                    한강거리    0.000734\n",
      "18                    기준금리    0.000651\n",
      "3                        층    0.000581\n",
      "13                sum_건축면적    0.000545\n",
      "14               mean_건축면적    0.000404\n",
      "28                   거래날차이    0.000371\n",
      "12                mean_연면적    0.000303\n",
      "15                  부속건축물수    0.000299\n",
      "21          bus_count_1000    0.000260\n",
      "27                    빌딩간격    0.000227\n",
      "26                     최저층    0.000189\n",
      "19  dist_to_nearest_school    0.000181\n",
      "25                     최고층    0.000155\n",
      "7                     아파트명    0.000143\n",
      "16                       동    0.000136\n",
      "0                     복도유형    0.000107\n",
      "20           bus_count_500    0.000104\n",
      "22         is_station_area    0.000067\n"
     ]
    },
    {
     "data": {
      "image/png": "[encoded data removed]",
      "text/plain": [
       "<Figure size 1000x600 with 1 Axes>"
      ]
     },
     "metadata": {},
     "output_type": "display_data"
    }
   ],
   "source": [
    "feature_importance = best_model.feature_importances_\n",
    "\n",
    "# Get the names of the features\n",
    "feature_names = X_train.columns  # Assuming X_train is a DataFrame\n",
    "\n",
    "# Create a DataFrame to store feature importance\n",
    "feature_importance_df = pd.DataFrame({'Feature': feature_names, 'Importance': feature_importance})\n",
    "\n",
    "# Sort the features by importance in descending order\n",
    "feature_importance_df = feature_importance_df.sort_values(by='Importance', ascending=False)\n",
    "\n",
    "# Print or visualize the feature importance\n",
    "print(feature_importance_df)\n",
    "\n",
    "# Optionally, plot the feature importances\n",
    "import matplotlib.pyplot as plt\n",
    "\n",
    "plt.figure(figsize=(10, 6))\n",
    "plt.barh(feature_importance_df['Feature'], feature_importance_df['Importance'], color='skyblue')\n",
    "plt.xlabel('Importance')\n",
    "plt.title('Feature Importance')\n",
    "plt.show()"
   ]
  },
  {
   "cell_type": "code",
   "execution_count": 131,
   "metadata": {},
   "outputs": [],
   "source": [
    "# Save the model to a file using pickle\n",
    "with open('/data/ephemeral/home/upstage-ml-regression-07/house_price_pred/notebooks/SJH/outlier_rf.pkl', 'wb') as model_file:\n",
    "    pickle.dump(best_model, model_file)"
   ]
  },
  {
   "cell_type": "code",
   "execution_count": 132,
   "metadata": {},
   "outputs": [],
   "source": [
    "test.drop(columns=['target'], inplace=True)"
   ]
  },
  {
   "cell_type": "code",
   "execution_count": 133,
   "metadata": {},
   "outputs": [],
   "source": [
    "pred = best_model.predict(test)\n",
    "test['is_outlier'] = pred "
   ]
  },
  {
   "cell_type": "code",
   "execution_count": 134,
   "metadata": {},
   "outputs": [
    {
     "data": {
      "text/plain": [
       "0    9010\n",
       "1     255\n",
       "2       7\n",
       "Name: is_outlier, dtype: int64"
      ]
     },
     "execution_count": 134,
     "metadata": {},
     "output_type": "execute_result"
    }
   ],
   "source": [
    "test['is_outlier'].value_counts()"
   ]
  },
  {
   "cell_type": "code",
   "execution_count": 135,
   "metadata": {},
   "outputs": [],
   "source": [
    "train.to_csv(\"/data/ephemeral/home/upstage-ml-regression-07/house_price_pred/notebooks/SJH/data/outlier_train.csv\", index=False)\n",
    "test.to_csv(\"/data/ephemeral/home/upstage-ml-regression-07/house_price_pred/notebooks/SJH/data/outlier_test.csv\", index=False)"
   ]
  },
  {
   "cell_type": "code",
   "execution_count": null,
   "metadata": {},
   "outputs": [],
   "source": []
  }
 ],
 "metadata": {
  "kernelspec": {
   "display_name": "base",
   "language": "python",
   "name": "python3"
  },
  "language_info": {
   "codemirror_mode": {
    "name": "ipython",
    "version": 3
   },
   "file_extension": ".py",
   "mimetype": "text/x-python",
   "name": "python",
   "nbconvert_exporter": "python",
   "pygments_lexer": "ipython3",
   "version": "3.10.13"
  }
 },
 "nbformat": 4,
 "nbformat_minor": 2
}
